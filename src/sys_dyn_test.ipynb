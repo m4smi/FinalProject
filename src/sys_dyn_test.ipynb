{
 "cells": [
  {
   "cell_type": "code",
   "execution_count": null,
   "id": "85e1c13d",
   "metadata": {},
   "outputs": [],
   "source": [
    "from pncbf.dyn.doubleint_wall import DoubleIntWall\n",
    "from pncbf.dyn.sim_cts import SimCtsReal\n",
    "import matplotlib.pyplot as plt\n",
    "import numpy as np\n",
    "import jax.numpy as jnp"
   ]
  },
  {
   "cell_type": "code",
   "execution_count": null,
   "id": "697298fc",
   "metadata": {},
   "outputs": [],
   "source": [
    "import jax\n",
    "print('JAX version:', jax.__version__); print('Available devices:', jax.devices())"
   ]
  },
  {
   "cell_type": "code",
   "execution_count": null,
   "id": "c7f9aad2",
   "metadata": {},
   "outputs": [],
   "source": [
    "system = DoubleIntWall()\n",
    "\n",
    "print(f\"state dim is: {system.nx}\")\n",
    "print(f\"control dim is: {system.nu}\")\n",
    "print(f\"state label is: {system.x_labels}\")\n",
    "print(f\"control label is: {system.u_labels}\")\n",
    "print(f\"constraint label is: {system.h_labels}\")"
   ]
  },
  {
   "cell_type": "code",
   "execution_count": null,
   "id": "7f11f38a",
   "metadata": {},
   "outputs": [],
   "source": [
    "fig, ax = plt.subplots(figsize = (8,6))\n",
    "\n",
    "system_setup = system.phase2d_setups()[0]\n",
    "system_setup.plot(ax)\n",
    "\n",
    "plt.title(\"Double Integrator Phase Space\")\n",
    "plt.tight_layout()\n",
    "plt.show()\n"
   ]
  },
  {
   "cell_type": "code",
   "execution_count": null,
   "id": "7131a765",
   "metadata": {},
   "outputs": [],
   "source": [
    "def nominal_policy(state):\n",
    "    k = np.array([[0.5, 0.8]])\n",
    "    return -k @ state \n",
    "\n",
    "# test agaist an arbitrary state\n",
    "test_state = np.array([-0.5, 0.1]) #[pos, vel]\n",
    "control = nominal_policy(test_state)\n",
    "print(f\"state: {test_state}, control: {control}\")"
   ]
  },
  {
   "cell_type": "code",
   "execution_count": null,
   "id": "ad58954a",
   "metadata": {},
   "outputs": [],
   "source": [
    "simulation_time = 5.0\n",
    "dt = system.dt\n",
    "sim = SimCtsReal(system, nominal_policy, simulation_time, dt)\n",
    "\n",
    "# inital state\n",
    "x0 = np.array([-0.5, 1.0]) #[pos, vel]\n",
    "\n",
    "# simulation\n",
    "T_states, T_times, _ = sim.rollout_plot(x0)\n",
    "\n",
    "# plot trajectory\n",
    "fig, ax = plt.subplots(figsize = (8,6))\n",
    "system_setup.plot(ax)\n",
    "ax.plot(T_states[:, 0], T_states[:, 1], 'r', linewidth = 2, label = 'Trajectory')\n",
    "ax.plot(x0[0], x0[1], 'o', markersize = 8, label = 'Initial State')\n",
    "ax.legend()\n",
    "plt.title(\"Double Integrator Trajectory\")\n",
    "plt.tight_layout()\n",
    "plt.show()\n",
    "\n",
    "# plot safety values along the trajectory\n",
    "T_h = jnp.array([system.h(state) for state in T_states])\n",
    "plt.figure(figsize = (8,4))\n",
    "plt.plot(T_times, T_h)\n",
    "plt.axhline(y = 0, color = 'r', linestyle = '-', alpha = 0.5)\n",
    "plt.xlabel('Time')\n",
    "plt.ylabel('Safety Value')\n",
    "plt.title('Safety Value Along Trajectory (h < 0 is safe)')\n",
    "plt.grid(True)\n",
    "plt.tight_layout()\n",
    "plt.show()"
   ]
  },
  {
   "cell_type": "code",
   "execution_count": null,
   "id": "b5f7be5b",
   "metadata": {},
   "outputs": [],
   "source": []
  }
 ],
 "metadata": {
  "kernelspec": {
   "display_name": "cbf310",
   "language": "python",
   "name": "python3"
  },
  "language_info": {
   "codemirror_mode": {
    "name": "ipython",
    "version": 3
   },
   "file_extension": ".py",
   "mimetype": "text/x-python",
   "name": "python",
   "nbconvert_exporter": "python",
   "pygments_lexer": "ipython3",
   "version": "3.10.16"
  }
 },
 "nbformat": 4,
 "nbformat_minor": 5
}
